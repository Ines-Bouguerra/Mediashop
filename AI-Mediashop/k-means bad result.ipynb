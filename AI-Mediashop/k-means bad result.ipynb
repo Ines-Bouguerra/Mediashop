{
 "cells": [
  {
   "cell_type": "code",
   "execution_count": 1,
   "metadata": {},
   "outputs": [],
   "source": [
    "import pandas as pd\n",
    "import numpy as np\n",
    "\n",
    "from sklearn.preprocessing import OrdinalEncoder, OneHotEncoder\n",
    "from sklearn.model_selection import train_test_split\n",
    "from sklearn.cluster import KMeans\n",
    "import matplotlib.pyplot as plt\n"
   ]
  },
  {
   "cell_type": "code",
   "execution_count": 2,
   "metadata": {},
   "outputs": [],
   "source": [
    "df = pd.read_csv(\"outputTunisianet.csv\", na_values=\"?\" )"
   ]
  },
  {
   "cell_type": "code",
   "execution_count": 3,
   "metadata": {},
   "outputs": [
    {
     "data": {
      "text/html": [
       "<div>\n",
       "<style scoped>\n",
       "    .dataframe tbody tr th:only-of-type {\n",
       "        vertical-align: middle;\n",
       "    }\n",
       "\n",
       "    .dataframe tbody tr th {\n",
       "        vertical-align: top;\n",
       "    }\n",
       "\n",
       "    .dataframe thead th {\n",
       "        text-align: right;\n",
       "    }\n",
       "</style>\n",
       "<table border=\"1\" class=\"dataframe\">\n",
       "  <thead>\n",
       "    <tr style=\"text-align: right;\">\n",
       "      <th></th>\n",
       "      <th>brand</th>\n",
       "      <th>price</th>\n",
       "      <th>reference</th>\n",
       "      <th>title</th>\n",
       "    </tr>\n",
       "  </thead>\n",
       "  <tbody>\n",
       "    <tr>\n",
       "      <th>0</th>\n",
       "      <td>https://www.tunisianet.com.tn/270_versus</td>\n",
       "      <td>439,000 DT</td>\n",
       "      <td>[VBOOK14SLVV1.]</td>\n",
       "      <td>Pc portable Versus V-Book / Quad Core / 2 Go</td>\n",
       "    </tr>\n",
       "    <tr>\n",
       "      <th>1</th>\n",
       "      <td>https://www.tunisianet.com.tn/3_lenovo</td>\n",
       "      <td>839,000 DT</td>\n",
       "      <td>[81D600DDFE]</td>\n",
       "      <td>Pc Portable Lenovo IdeaPad 330-15AST / Dual Co...</td>\n",
       "    </tr>\n",
       "    <tr>\n",
       "      <th>2</th>\n",
       "      <td>https://www.tunisianet.com.tn/3_lenovo</td>\n",
       "      <td>889,000 DT</td>\n",
       "      <td>[82C6006GFE]</td>\n",
       "      <td>PC Portable Lenovo V14 ADA / Dual Core / 4 Go</td>\n",
       "    </tr>\n",
       "    <tr>\n",
       "      <th>3</th>\n",
       "      <td>https://www.tunisianet.com.tn/79_asus</td>\n",
       "      <td>899,000 DT</td>\n",
       "      <td>[X543NA-AR297T]</td>\n",
       "      <td>Pc portable Asus X543NA / Dual Core / 4 Go / Gris</td>\n",
       "    </tr>\n",
       "    <tr>\n",
       "      <th>4</th>\n",
       "      <td>https://www.tunisianet.com.tn/3_lenovo</td>\n",
       "      <td>902,000 DT</td>\n",
       "      <td>[81D600DDFE-8]</td>\n",
       "      <td>Pc Portable Lenovo IdeaPad 330-15AST / Dual Co...</td>\n",
       "    </tr>\n",
       "    <tr>\n",
       "      <th>...</th>\n",
       "      <td>...</td>\n",
       "      <td>...</td>\n",
       "      <td>...</td>\n",
       "      <td>...</td>\n",
       "    </tr>\n",
       "    <tr>\n",
       "      <th>1640</th>\n",
       "      <td>https://www.tunisianet.com.tn/874_swatch</td>\n",
       "      <td>345,000 DT</td>\n",
       "      <td>[YLS216]</td>\n",
       "      <td>Montre Pour Femme Swatch LOVELY LILAC YLS216</td>\n",
       "    </tr>\n",
       "    <tr>\n",
       "      <th>1641</th>\n",
       "      <td>https://www.tunisianet.com.tn/874_swatch</td>\n",
       "      <td>345,000 DT</td>\n",
       "      <td>[YLS217]</td>\n",
       "      <td>Montre Pour Femme Swatch STARRY PARTY YLS217</td>\n",
       "    </tr>\n",
       "    <tr>\n",
       "      <th>1642</th>\n",
       "      <td>https://www.tunisianet.com.tn/874_swatch</td>\n",
       "      <td>345,000 DT</td>\n",
       "      <td>[YLS220]</td>\n",
       "      <td>Montre pour femme Swatch Rose Sparkle YLS220</td>\n",
       "    </tr>\n",
       "    <tr>\n",
       "      <th>1643</th>\n",
       "      <td>https://www.tunisianet.com.tn/874_swatch</td>\n",
       "      <td>360,000 DT</td>\n",
       "      <td>[SFK389GA]</td>\n",
       "      <td>Montre Pour femme Swatch INCANTATA SFK389GA / ...</td>\n",
       "    </tr>\n",
       "    <tr>\n",
       "      <th>1644</th>\n",
       "      <td>https://www.tunisianet.com.tn/874_swatch</td>\n",
       "      <td>360,000 DT</td>\n",
       "      <td>[YLS455G]</td>\n",
       "      <td>Montre Pour Femme Swatch PINKAROUND YLS455G</td>\n",
       "    </tr>\n",
       "  </tbody>\n",
       "</table>\n",
       "<p>1645 rows × 4 columns</p>\n",
       "</div>"
      ],
      "text/plain": [
       "                                         brand       price        reference  \\\n",
       "0     https://www.tunisianet.com.tn/270_versus  439,000 DT  [VBOOK14SLVV1.]   \n",
       "1       https://www.tunisianet.com.tn/3_lenovo  839,000 DT     [81D600DDFE]   \n",
       "2       https://www.tunisianet.com.tn/3_lenovo  889,000 DT     [82C6006GFE]   \n",
       "3        https://www.tunisianet.com.tn/79_asus  899,000 DT  [X543NA-AR297T]   \n",
       "4       https://www.tunisianet.com.tn/3_lenovo  902,000 DT   [81D600DDFE-8]   \n",
       "...                                        ...         ...              ...   \n",
       "1640  https://www.tunisianet.com.tn/874_swatch  345,000 DT         [YLS216]   \n",
       "1641  https://www.tunisianet.com.tn/874_swatch  345,000 DT         [YLS217]   \n",
       "1642  https://www.tunisianet.com.tn/874_swatch  345,000 DT         [YLS220]   \n",
       "1643  https://www.tunisianet.com.tn/874_swatch  360,000 DT       [SFK389GA]   \n",
       "1644  https://www.tunisianet.com.tn/874_swatch  360,000 DT        [YLS455G]   \n",
       "\n",
       "                                                  title  \n",
       "0          Pc portable Versus V-Book / Quad Core / 2 Go  \n",
       "1     Pc Portable Lenovo IdeaPad 330-15AST / Dual Co...  \n",
       "2         PC Portable Lenovo V14 ADA / Dual Core / 4 Go  \n",
       "3     Pc portable Asus X543NA / Dual Core / 4 Go / Gris  \n",
       "4     Pc Portable Lenovo IdeaPad 330-15AST / Dual Co...  \n",
       "...                                                 ...  \n",
       "1640       Montre Pour Femme Swatch LOVELY LILAC YLS216  \n",
       "1641       Montre Pour Femme Swatch STARRY PARTY YLS217  \n",
       "1642       Montre pour femme Swatch Rose Sparkle YLS220  \n",
       "1643  Montre Pour femme Swatch INCANTATA SFK389GA / ...  \n",
       "1644        Montre Pour Femme Swatch PINKAROUND YLS455G  \n",
       "\n",
       "[1645 rows x 4 columns]"
      ]
     },
     "execution_count": 3,
     "metadata": {},
     "output_type": "execute_result"
    }
   ],
   "source": [
    "df"
   ]
  },
  {
   "cell_type": "code",
   "execution_count": 4,
   "metadata": {},
   "outputs": [
    {
     "data": {
      "text/plain": [
       "brand        object\n",
       "price        object\n",
       "reference    object\n",
       "title        object\n",
       "dtype: object"
      ]
     },
     "execution_count": 4,
     "metadata": {},
     "output_type": "execute_result"
    }
   ],
   "source": [
    "df.dtypes"
   ]
  },
  {
   "cell_type": "code",
   "execution_count": 5,
   "metadata": {},
   "outputs": [],
   "source": [
    "obj_df = df.select_dtypes(include=['object']).copy()"
   ]
  },
  {
   "cell_type": "code",
   "execution_count": 6,
   "metadata": {},
   "outputs": [
    {
     "data": {
      "text/html": [
       "<div>\n",
       "<style scoped>\n",
       "    .dataframe tbody tr th:only-of-type {\n",
       "        vertical-align: middle;\n",
       "    }\n",
       "\n",
       "    .dataframe tbody tr th {\n",
       "        vertical-align: top;\n",
       "    }\n",
       "\n",
       "    .dataframe thead th {\n",
       "        text-align: right;\n",
       "    }\n",
       "</style>\n",
       "<table border=\"1\" class=\"dataframe\">\n",
       "  <thead>\n",
       "    <tr style=\"text-align: right;\">\n",
       "      <th></th>\n",
       "      <th>brand</th>\n",
       "      <th>price</th>\n",
       "      <th>reference</th>\n",
       "      <th>title</th>\n",
       "    </tr>\n",
       "  </thead>\n",
       "  <tbody>\n",
       "    <tr>\n",
       "      <th>0</th>\n",
       "      <td>https://www.tunisianet.com.tn/270_versus</td>\n",
       "      <td>439,000 DT</td>\n",
       "      <td>[VBOOK14SLVV1.]</td>\n",
       "      <td>Pc portable Versus V-Book / Quad Core / 2 Go</td>\n",
       "    </tr>\n",
       "    <tr>\n",
       "      <th>1</th>\n",
       "      <td>https://www.tunisianet.com.tn/3_lenovo</td>\n",
       "      <td>839,000 DT</td>\n",
       "      <td>[81D600DDFE]</td>\n",
       "      <td>Pc Portable Lenovo IdeaPad 330-15AST / Dual Co...</td>\n",
       "    </tr>\n",
       "    <tr>\n",
       "      <th>2</th>\n",
       "      <td>https://www.tunisianet.com.tn/3_lenovo</td>\n",
       "      <td>889,000 DT</td>\n",
       "      <td>[82C6006GFE]</td>\n",
       "      <td>PC Portable Lenovo V14 ADA / Dual Core / 4 Go</td>\n",
       "    </tr>\n",
       "    <tr>\n",
       "      <th>3</th>\n",
       "      <td>https://www.tunisianet.com.tn/79_asus</td>\n",
       "      <td>899,000 DT</td>\n",
       "      <td>[X543NA-AR297T]</td>\n",
       "      <td>Pc portable Asus X543NA / Dual Core / 4 Go / Gris</td>\n",
       "    </tr>\n",
       "    <tr>\n",
       "      <th>4</th>\n",
       "      <td>https://www.tunisianet.com.tn/3_lenovo</td>\n",
       "      <td>902,000 DT</td>\n",
       "      <td>[81D600DDFE-8]</td>\n",
       "      <td>Pc Portable Lenovo IdeaPad 330-15AST / Dual Co...</td>\n",
       "    </tr>\n",
       "  </tbody>\n",
       "</table>\n",
       "</div>"
      ],
      "text/plain": [
       "                                      brand       price        reference  \\\n",
       "0  https://www.tunisianet.com.tn/270_versus  439,000 DT  [VBOOK14SLVV1.]   \n",
       "1    https://www.tunisianet.com.tn/3_lenovo  839,000 DT     [81D600DDFE]   \n",
       "2    https://www.tunisianet.com.tn/3_lenovo  889,000 DT     [82C6006GFE]   \n",
       "3     https://www.tunisianet.com.tn/79_asus  899,000 DT  [X543NA-AR297T]   \n",
       "4    https://www.tunisianet.com.tn/3_lenovo  902,000 DT   [81D600DDFE-8]   \n",
       "\n",
       "                                               title  \n",
       "0       Pc portable Versus V-Book / Quad Core / 2 Go  \n",
       "1  Pc Portable Lenovo IdeaPad 330-15AST / Dual Co...  \n",
       "2      PC Portable Lenovo V14 ADA / Dual Core / 4 Go  \n",
       "3  Pc portable Asus X543NA / Dual Core / 4 Go / Gris  \n",
       "4  Pc Portable Lenovo IdeaPad 330-15AST / Dual Co...  "
      ]
     },
     "execution_count": 6,
     "metadata": {},
     "output_type": "execute_result"
    }
   ],
   "source": [
    "obj_df.head()"
   ]
  },
  {
   "cell_type": "code",
   "execution_count": 7,
   "metadata": {},
   "outputs": [
    {
     "data": {
      "text/html": [
       "<div>\n",
       "<style scoped>\n",
       "    .dataframe tbody tr th:only-of-type {\n",
       "        vertical-align: middle;\n",
       "    }\n",
       "\n",
       "    .dataframe tbody tr th {\n",
       "        vertical-align: top;\n",
       "    }\n",
       "\n",
       "    .dataframe thead th {\n",
       "        text-align: right;\n",
       "    }\n",
       "</style>\n",
       "<table border=\"1\" class=\"dataframe\">\n",
       "  <thead>\n",
       "    <tr style=\"text-align: right;\">\n",
       "      <th></th>\n",
       "      <th>brand</th>\n",
       "      <th>price</th>\n",
       "      <th>reference</th>\n",
       "      <th>title</th>\n",
       "    </tr>\n",
       "  </thead>\n",
       "  <tbody>\n",
       "  </tbody>\n",
       "</table>\n",
       "</div>"
      ],
      "text/plain": [
       "Empty DataFrame\n",
       "Columns: [brand, price, reference, title]\n",
       "Index: []"
      ]
     },
     "execution_count": 7,
     "metadata": {},
     "output_type": "execute_result"
    }
   ],
   "source": [
    "obj_df[obj_df.isnull().any(axis=1)]"
   ]
  },
  {
   "cell_type": "code",
   "execution_count": 8,
   "metadata": {},
   "outputs": [
    {
     "data": {
      "text/plain": [
       "[A3121H11]            4\n",
       "[MAG272C]             3\n",
       "[1FR84AS.]            2\n",
       "[81W800T8FG-20]       2\n",
       "[G1S0001VF-WH]        2\n",
       "                     ..\n",
       "[ITEL-2160-DB]        1\n",
       "[NSS-19054BK]         1\n",
       "[S509JB-EJ010T-20]    1\n",
       "[5410I5-512-3Y-16]    1\n",
       "[ACTPD00002A]         1\n",
       "Name: reference, Length: 1320, dtype: int64"
      ]
     },
     "execution_count": 8,
     "metadata": {},
     "output_type": "execute_result"
    }
   ],
   "source": [
    "obj_df[\"reference\"].value_counts()"
   ]
  },
  {
   "cell_type": "code",
   "execution_count": 9,
   "metadata": {},
   "outputs": [],
   "source": [
    "ord_enc = OrdinalEncoder()"
   ]
  },
  {
   "cell_type": "code",
   "execution_count": 10,
   "metadata": {},
   "outputs": [],
   "source": [
    "obj_df[\"ref_code\"] = ord_enc.fit_transform(obj_df[[\"reference\"]])"
   ]
  },
  {
   "cell_type": "code",
   "execution_count": 11,
   "metadata": {},
   "outputs": [
    {
     "data": {
      "text/html": [
       "<div>\n",
       "<style scoped>\n",
       "    .dataframe tbody tr th:only-of-type {\n",
       "        vertical-align: middle;\n",
       "    }\n",
       "\n",
       "    .dataframe tbody tr th {\n",
       "        vertical-align: top;\n",
       "    }\n",
       "\n",
       "    .dataframe thead th {\n",
       "        text-align: right;\n",
       "    }\n",
       "</style>\n",
       "<table border=\"1\" class=\"dataframe\">\n",
       "  <thead>\n",
       "    <tr style=\"text-align: right;\">\n",
       "      <th></th>\n",
       "      <th>reference</th>\n",
       "      <th>ref_code</th>\n",
       "    </tr>\n",
       "  </thead>\n",
       "  <tbody>\n",
       "    <tr>\n",
       "      <th>0</th>\n",
       "      <td>[VBOOK14SLVV1.]</td>\n",
       "      <td>1230.0</td>\n",
       "    </tr>\n",
       "    <tr>\n",
       "      <th>1</th>\n",
       "      <td>[81D600DDFE]</td>\n",
       "      <td>267.0</td>\n",
       "    </tr>\n",
       "    <tr>\n",
       "      <th>2</th>\n",
       "      <td>[82C6006GFE]</td>\n",
       "      <td>307.0</td>\n",
       "    </tr>\n",
       "    <tr>\n",
       "      <th>3</th>\n",
       "      <td>[X543NA-AR297T]</td>\n",
       "      <td>1266.0</td>\n",
       "    </tr>\n",
       "    <tr>\n",
       "      <th>4</th>\n",
       "      <td>[81D600DDFE-8]</td>\n",
       "      <td>266.0</td>\n",
       "    </tr>\n",
       "  </tbody>\n",
       "</table>\n",
       "</div>"
      ],
      "text/plain": [
       "         reference  ref_code\n",
       "0  [VBOOK14SLVV1.]    1230.0\n",
       "1     [81D600DDFE]     267.0\n",
       "2     [82C6006GFE]     307.0\n",
       "3  [X543NA-AR297T]    1266.0\n",
       "4   [81D600DDFE-8]     266.0"
      ]
     },
     "execution_count": 11,
     "metadata": {},
     "output_type": "execute_result"
    }
   ],
   "source": [
    "obj_df[[\"reference\", \"ref_code\"]].head(5)"
   ]
  },
  {
   "cell_type": "code",
   "execution_count": 12,
   "metadata": {},
   "outputs": [
    {
     "data": {
      "text/plain": [
       "brand         object\n",
       "price         object\n",
       "reference     object\n",
       "title         object\n",
       "ref_code     float64\n",
       "dtype: object"
      ]
     },
     "execution_count": 12,
     "metadata": {},
     "output_type": "execute_result"
    }
   ],
   "source": [
    "obj_df.dtypes"
   ]
  },
  {
   "cell_type": "code",
   "execution_count": 13,
   "metadata": {},
   "outputs": [],
   "source": [
    "# Subdiviser les échantillons d'observations en sous-ensembles d'apprentissage et de test\n",
    "X_train, X_test=train_test_split(obj_df[[\"ref_code\"]], test_size= 0.2, random_state=5)"
   ]
  },
  {
   "cell_type": "code",
   "execution_count": 18,
   "metadata": {},
   "outputs": [
    {
     "name": "stdout",
     "output_type": "stream",
     "text": [
      "[184839405.84802428, 47811887.66301174, 20940597.12144954, 12286285.64064387, 7832403.544102905, 5294194.466063065, 3866374.0200002016, 2987593.93472458, 2312128.2052264335, 1826812.7484558125, 1512350.557633093, 1308516.5498858644, 1097976.2000385802, 932744.2344611149, 816563.2873090883, 705447.8790605804, 620105.5177546984, 563896.9914660567, 504622.5124189715, 454000.9286788004, 418186.77694475185, 380118.6239018592, 349921.36508002534, 319299.7475511672, 294681.18626140297, 273051.8231192674, 253556.5490939993, 232990.79524475144, 217007.19444591142, 207269.19942792592, 191758.38160748692, 183803.33990267295, 169359.70176908537, 157035.96052849552, 151820.64541522166, 140960.83781176535, 134088.29701471629, 128260.59351006763, 120681.66439027585, 113891.24316733304, 108364.55845805873, 104572.28274271195, 98301.46351146688, 93771.55648603996, 88613.46359057637, 86259.94724252602, 82743.82942819051, 77395.08016348393, 76436.8615873286, 73328.69499493415, 70301.01338238244, 67842.72049388908, 66041.88271540549, 63947.46946316095, 61031.750510844424, 58007.780194481464, 55395.4075219029, 54004.618862104704, 52022.86194830999, 50170.30124502521, 50256.60368746756, 47470.475172162856, 45950.32956865917, 44478.806827126195, 43018.148339292, 41490.807438738615, 40928.777594355735, 39359.95645526472, 37938.48530296026, 37895.330263876866, 35916.01489262338, 35292.70278898901, 34215.623597640326, 32807.79892656074, 32750.847064077, 31848.991101601947, 30993.829159149594, 29415.200347166883, 29595.513285743902, 27995.41284113037, 26677.957782782385, 26720.58960949289, 26444.3175956979, 25674.001609118546, 25333.775878080793, 24920.380206254995, 23581.454590227648, 23168.431106881682, 22428.703768433083]\n"
     ]
    }
   ],
   "source": [
    "inertia = []\n",
    "K = range(1, 90)\n",
    "for k in K:\n",
    "    km = KMeans(n_clusters=k)\n",
    "    km.fit(X_train)\n",
    "    inertia.append(km.inertia_)\n",
    "    \n",
    "print(inertia)"
   ]
  },
  {
   "cell_type": "code",
   "execution_count": 19,
   "metadata": {},
   "outputs": [
    {
     "data": {
      "image/png": "[encoded data removed]",
      "text/plain": [
       "<Figure size 432x288 with 1 Axes>"
      ]
     },
     "metadata": {
      "needs_background": "light"
     },
     "output_type": "display_data"
    }
   ],
   "source": [
    "plt.plot(K, inertia)\n",
    "plt.xticks(K)\n",
    "plt.xlabel('nombre de clusters')\n",
    "plt.ylabel('Inertie intra-classes')\n",
    "plt.grid(True)"
   ]
  },
  {
   "cell_type": "code",
   "execution_count": 25,
   "metadata": {},
   "outputs": [],
   "source": [
    "model=KMeans(n_clusters=4)"
   ]
  },
  {
   "cell_type": "code",
   "execution_count": 26,
   "metadata": {},
   "outputs": [
    {
     "data": {
      "text/plain": [
       "KMeans(n_clusters=4)"
      ]
     },
     "execution_count": 26,
     "metadata": {},
     "output_type": "execute_result"
    }
   ],
   "source": [
    "model.fit(X_train)"
   ]
  },
  {
   "cell_type": "code",
   "execution_count": 27,
   "metadata": {},
   "outputs": [
    {
     "data": {
      "text/plain": [
       "array([[1128.55585831],\n",
       "       [ 162.27508091],\n",
       "       [ 791.63580247],\n",
       "       [ 483.54113924]])"
      ]
     },
     "execution_count": 27,
     "metadata": {},
     "output_type": "execute_result"
    }
   ],
   "source": [
    "model.cluster_centers_"
   ]
  },
  {
   "cell_type": "code",
   "execution_count": 28,
   "metadata": {},
   "outputs": [
    {
     "name": "stdout",
     "output_type": "stream",
     "text": [
      "[3 0 0 ... 1 1 3]\n"
     ]
    }
   ],
   "source": [
    "y_Train_pred = model.labels_\n",
    "print(y_Train_pred)"
   ]
  },
  {
   "cell_type": "code",
   "execution_count": 29,
   "metadata": {},
   "outputs": [
    {
     "data": {
      "text/plain": [
       "12279225.746454693"
      ]
     },
     "execution_count": 29,
     "metadata": {},
     "output_type": "execute_result"
    }
   ],
   "source": [
    "model.inertia_ "
   ]
  },
  {
   "cell_type": "code",
   "execution_count": 30,
   "metadata": {},
   "outputs": [
    {
     "data": {
      "text/plain": [
       "2983691.6139573655"
      ]
     },
     "execution_count": 30,
     "metadata": {},
     "output_type": "execute_result"
    }
   ],
   "source": [
    "- model.score(X_test)"
   ]
  },
  {
   "cell_type": "code",
   "execution_count": 31,
   "metadata": {},
   "outputs": [],
   "source": [
    "y_kmeans4=model.fit_predict(X_test)"
   ]
  },
  {
   "cell_type": "code",
   "execution_count": 32,
   "metadata": {},
   "outputs": [
    {
     "name": "stdout",
     "output_type": "stream",
     "text": [
      "[3 0 2 3 2 1 3 1 0 1 0 0 3 1 1 2 2 3 3 2 1 3 1 0 3 3 0 0 2 0 1 1 0 1 3 2 2\n",
      " 0 3 3 2 3 2 3 0 0 0 3 2 1 1 1 3 2 1 0 2 2 1 2 1 0 0 2 3 3 0 1 1 1 0 3 3 1\n",
      " 2 2 2 0 0 2 2 2 0 0 1 2 2 0 1 2 0 3 3 3 1 0 0 0 0 0 0 2 0 3 0 2 0 2 2 0 3\n",
      " 2 2 0 1 2 0 1 0 2 2 1 3 0 3 0 3 0 2 0 3 1 0 1 1 3 3 1 3 3 2 0 1 1 0 3 0 3\n",
      " 0 0 2 0 2 1 3 0 1 1 1 2 2 0 0 1 3 1 3 0 0 3 2 2 3 0 1 2 2 1 2 0 2 1 0 1 2\n",
      " 2 3 0 3 3 2 2 0 1 1 1 3 2 2 3 0 2 0 1 0 2 0 0 2 3 0 1 1 2 2 3 2 2 2 3 0 3\n",
      " 0 3 3 3 1 0 3 3 0 2 0 2 2 2 3 2 2 1 0 3 3 0 2 2 0 2 1 1 0 2 3 1 0 2 3 1 0\n",
      " 2 0 3 3 2 1 3 1 0 2 1 1 1 3 1 3 2 1 3 1 2 0 2 3 1 1 1 2 1 1 2 0 0 1 1 3 3\n",
      " 3 1 0 3 2 3 1 0 2 2 2 3 3 1 2 3 0 0 2 3 0 2 2 2 3 0 2 1 2 3 0 0 3]\n"
     ]
    }
   ],
   "source": [
    "print(y_kmeans4)"
   ]
  },
  {
   "cell_type": "code",
   "execution_count": 33,
   "metadata": {},
   "outputs": [
    {
     "data": {
      "text/plain": [
       "<matplotlib.collections.PathCollection at 0x2636cc46970>"
      ]
     },
     "execution_count": 33,
     "metadata": {},
     "output_type": "execute_result"
    },
    {
     "data": {
      "image/png": "[encoded data removed]",
      "text/plain": [
       "<Figure size 432x288 with 1 Axes>"
      ]
     },
     "metadata": {
      "needs_background": "light"
     },
     "output_type": "display_data"
    }
   ],
   "source": [
    "plt.scatter(X_test.iloc[:,0],X_test.iloc[:,0],c=y_kmeans4,cmap='rainbow')"
   ]
  },
  {
   "cell_type": "code",
   "execution_count": 34,
   "metadata": {},
   "outputs": [],
   "source": [
    "from sklearn.metrics import classification_report"
   ]
  },
  {
   "cell_type": "code",
   "execution_count": 35,
   "metadata": {},
   "outputs": [
    {
     "data": {
      "text/html": [
       "<div>\n",
       "<style scoped>\n",
       "    .dataframe tbody tr th:only-of-type {\n",
       "        vertical-align: middle;\n",
       "    }\n",
       "\n",
       "    .dataframe tbody tr th {\n",
       "        vertical-align: top;\n",
       "    }\n",
       "\n",
       "    .dataframe thead th {\n",
       "        text-align: right;\n",
       "    }\n",
       "</style>\n",
       "<table border=\"1\" class=\"dataframe\">\n",
       "  <thead>\n",
       "    <tr style=\"text-align: right;\">\n",
       "      <th></th>\n",
       "      <th>ref_code</th>\n",
       "    </tr>\n",
       "  </thead>\n",
       "  <tbody>\n",
       "    <tr>\n",
       "      <th>1289</th>\n",
       "      <td>513.0</td>\n",
       "    </tr>\n",
       "    <tr>\n",
       "      <th>184</th>\n",
       "      <td>655.0</td>\n",
       "    </tr>\n",
       "    <tr>\n",
       "      <th>1279</th>\n",
       "      <td>1232.0</td>\n",
       "    </tr>\n",
       "    <tr>\n",
       "      <th>315</th>\n",
       "      <td>380.0</td>\n",
       "    </tr>\n",
       "    <tr>\n",
       "      <th>236</th>\n",
       "      <td>1309.0</td>\n",
       "    </tr>\n",
       "    <tr>\n",
       "      <th>...</th>\n",
       "      <td>...</td>\n",
       "    </tr>\n",
       "    <tr>\n",
       "      <th>814</th>\n",
       "      <td>1120.0</td>\n",
       "    </tr>\n",
       "    <tr>\n",
       "      <th>383</th>\n",
       "      <td>345.0</td>\n",
       "    </tr>\n",
       "    <tr>\n",
       "      <th>386</th>\n",
       "      <td>716.0</td>\n",
       "    </tr>\n",
       "    <tr>\n",
       "      <th>668</th>\n",
       "      <td>748.0</td>\n",
       "    </tr>\n",
       "    <tr>\n",
       "      <th>636</th>\n",
       "      <td>553.0</td>\n",
       "    </tr>\n",
       "  </tbody>\n",
       "</table>\n",
       "<p>329 rows × 1 columns</p>\n",
       "</div>"
      ],
      "text/plain": [
       "      ref_code\n",
       "1289     513.0\n",
       "184      655.0\n",
       "1279    1232.0\n",
       "315      380.0\n",
       "236     1309.0\n",
       "...        ...\n",
       "814     1120.0\n",
       "383      345.0\n",
       "386      716.0\n",
       "668      748.0\n",
       "636      553.0\n",
       "\n",
       "[329 rows x 1 columns]"
      ]
     },
     "execution_count": 35,
     "metadata": {},
     "output_type": "execute_result"
    }
   ],
   "source": [
    "X_test"
   ]
  },
  {
   "cell_type": "code",
   "execution_count": null,
   "metadata": {},
   "outputs": [],
   "source": []
  }
 ],
 "metadata": {
  "kernelspec": {
   "display_name": "Python 3",
   "language": "python",
   "name": "python3"
  },
  "language_info": {
   "codemirror_mode": {
    "name": "ipython",
    "version": 3
   },
   "file_extension": ".py",
   "mimetype": "text/x-python",
   "name": "python",
   "nbconvert_exporter": "python",
   "pygments_lexer": "ipython3",
   "version": "3.8.3"
  }
 },
 "nbformat": 4,
 "nbformat_minor": 4
}
